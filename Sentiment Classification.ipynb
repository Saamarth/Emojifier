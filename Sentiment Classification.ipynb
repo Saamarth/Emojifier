{
 "cells": [
  {
   "cell_type": "code",
   "execution_count": 1,
   "id": "f87c4a1c",
   "metadata": {},
   "outputs": [],
   "source": [
    "import numpy as np\n",
    "import emoji\n",
    "import pandas as pd\n",
    "import matplotlib.pyplot as plt\n"
   ]
  },
  {
   "cell_type": "code",
   "execution_count": 2,
   "id": "f3a568d0",
   "metadata": {},
   "outputs": [],
   "source": [
    "#Reading the Embeddings from 'glove.6B.50d.txt' file\n",
    "\n",
    "f=open(\"glove.6B.50d.txt\", \"r\", encoding='utf8')\n",
    "word_to_vec_map={}\n",
    "words=set()\n",
    "\n",
    "for line in f:\n",
    "    line_list=line.strip().split()\n",
    "    words.add(line_list[0])\n",
    "    word_to_vec_map[line_list[0]]=np.array( line_list[1:] , dtype=np.float)\n",
    "index_to_word={k:v for k,v in enumerate(sorted(words), start=1)}\n",
    "word_to_index={v:k for k,v in enumerate(sorted(words), start=1)}"
   ]
  },
  {
   "cell_type": "code",
   "execution_count": 3,
   "id": "e867f731",
   "metadata": {},
   "outputs": [
    {
     "name": "stdout",
     "output_type": "stream",
     "text": [
      "Vocab is of size : 400000\n",
      "Size of Embeddings : (50,)\n"
     ]
    }
   ],
   "source": [
    "#Analysing the Vocabulary.\n",
    "vocab_size=len(word_to_vec_map.keys())\n",
    "print(\"Vocab is of size : {}\".format(vocab_size))\n",
    "\n",
    "Embeddings_size=word_to_vec_map['father'].shape\n",
    "print(\"Size of Embeddings : {}\".format(Embeddings_size))"
   ]
  },
  {
   "cell_type": "code",
   "execution_count": 4,
   "id": "206b0352",
   "metadata": {},
   "outputs": [],
   "source": [
    "#Reading the data from the files.\n",
    "df_train=pd.read_csv('./data/train_emoji.csv')\n",
    "df_test=pd.read_csv(\"./data/test_emoji.csv\")\n"
   ]
  },
  {
   "cell_type": "code",
   "execution_count": 5,
   "id": "296283f4",
   "metadata": {},
   "outputs": [
    {
     "name": "stdout",
     "output_type": "stream",
     "text": [
      "Shape of x_train: (132,)\n",
      "Shape of y_train: (132,)\n",
      "Shape of x_test: (56,)\n",
      "Shape of y_tesr: (56,)\n"
     ]
    }
   ],
   "source": [
    "#Analysing the data\n",
    "x_train=np.array(df_train['sentence'])\n",
    "y_train=np.array(df_train['label'])\n",
    "\n",
    "x_test=np.array(df_test['sentence'])\n",
    "y_test=np.array(df_test['label'])\n",
    "\n",
    "\n",
    "print(\"Shape of x_train: {}\".format(x_train.shape))\n",
    "print(\"Shape of y_train: {}\".format(y_train.shape))\n",
    "\n",
    "print(\"Shape of x_test: {}\".format(x_test.shape))\n",
    "print(\"Shape of y_tesr: {}\".format(y_test.shape))"
   ]
  },
  {
   "cell_type": "code",
   "execution_count": 6,
   "id": "3125e13a",
   "metadata": {},
   "outputs": [],
   "source": [
    "emoji_dictionary = {0: \"\\u2764\\uFE0F\",    # heart \n",
    "                    1: \":baseball:\",\n",
    "                    2: \":smile:\",\n",
    "                    3: \":disappointed:\",\n",
    "                    4: \":fork_and_knife:\"}\n",
    "\n",
    "def label_to_emoji(label):\n",
    "    \"\"\"\n",
    "    This takes the label from {0,1,2,3,4} and returns the corresponding emoji.\n",
    "    \"\"\"\n",
    "    \n",
    "    label_code=emoji_dictionary[label]\n",
    "    a=emoji.emojize(label_code, use_aliases=True)\n",
    "    return a"
   ]
  },
  {
   "cell_type": "code",
   "execution_count": 7,
   "id": "29796be3",
   "metadata": {},
   "outputs": [
    {
     "name": "stdout",
     "output_type": "stream",
     "text": [
      "never talk to me again 3 😞\n",
      "I am proud of your achievements 2 😄\n",
      "It is the worst day in my life 3 😞\n",
      "Miss you so much 0 ❤️\n",
      "food is life 4 🍴\n",
      "I love you mum 0 ❤️\n",
      "Stop saying bullshit 3 😞\n",
      "congratulations on your acceptance 2 😄\n",
      "The assignment is too long  3 😞\n",
      "I want to go play 1 ⚾\n"
     ]
    }
   ],
   "source": [
    "#Getting the glimse of the data\n",
    "for i in range(10):\n",
    "    print(x_train[i], y_train[i], label_to_emoji(y_train[i]))"
   ]
  },
  {
   "cell_type": "code",
   "execution_count": 8,
   "id": "2997b280",
   "metadata": {},
   "outputs": [],
   "source": [
    "#let's convert the labels into one-hot encodings.\n",
    "\n",
    "def labels_to_oh(Y, classes=5):\n",
    "    \"\"\"\n",
    "    This function converts the labels into one-hot encodings.\n",
    "    Arguments:\n",
    "        Y: Array of shape(m,)\n",
    "        classes: int\n",
    "    Returns:\n",
    "        one_hot: Array of shape(classes, m)\n",
    "    \"\"\"\n",
    "    one_hot=np.zeros((classes,Y.shape[0]))\n",
    "    m_list=np.arange(Y.shape[0])\n",
    "    one_hot[Y,m_list ]=1\n",
    "    return one_hot"
   ]
  },
  {
   "cell_type": "code",
   "execution_count": 9,
   "id": "7e97c59a",
   "metadata": {},
   "outputs": [
    {
     "name": "stdout",
     "output_type": "stream",
     "text": [
      "Sentence 'You are incredibly intelligent and talented' has label index 2  which is emoji 😄\n",
      "Label index 2 in one-hot encoding format is: \n",
      " [[0.]\n",
      " [0.]\n",
      " [1.]\n",
      " [0.]\n",
      " [0.]]\n"
     ]
    }
   ],
   "source": [
    "#Let's check the above function:\n",
    "idx = 59  #Feel free to play with this\n",
    "print(\"Sentence '{}' has label index {}  which is emoji {}\".format( x_train[idx], y_train[idx], label_to_emoji(y_train[idx]) ) )\n",
    "print(\"Label index {} in one-hot encoding format is: \\n {}\".format( y_train[idx], labels_to_oh(np.array([ y_train[idx] ]), 5) ))"
   ]
  },
  {
   "cell_type": "markdown",
   "id": "52c28474",
   "metadata": {},
   "source": [
    "Model 1"
   ]
  },
  {
   "cell_type": "code",
   "execution_count": 10,
   "id": "775aca5a",
   "metadata": {},
   "outputs": [],
   "source": [
    "def avg_fun(sentence):\n",
    "    \"\"\"\n",
    "    This function takes a single sentence and returns the average vector of it's words embeddings.\n",
    "    Arguments: \n",
    "        sentence: a string of single sentence\n",
    "    \n",
    "    Returns:\n",
    "        arr: A average vector , of shape(50,)\n",
    "    \"\"\"\n",
    "    \n",
    "    sentence_list=sentence.split()\n",
    "    arr=np.zeros( word_to_vec_map['father'].shape )\n",
    "    for i in range( len(sentence_list) ):\n",
    "        arr+=word_to_vec_map[sentence_list[i].lower()]\n",
    "    arr=arr/len(sentence_list)\n",
    "    return arr"
   ]
  },
  {
   "cell_type": "code",
   "execution_count": 11,
   "id": "fe524952",
   "metadata": {},
   "outputs": [
    {
     "name": "stdout",
     "output_type": "stream",
     "text": [
      "avg = \n",
      " [-0.5081    -0.49981    0.910065  -0.417435  -0.0855345  0.1721485\n",
      " -0.221605  -0.2937245 -0.570465  -0.02338   -0.306108  -0.84905\n",
      " -0.201511   0.63919   -0.91403   -0.281875  -0.403532   0.366115\n",
      "  0.089415  -0.633365   0.0429     0.145705   0.0418234  0.16978\n",
      "  0.1502575 -1.2991    -0.61849    0.47496    0.34654   -0.40018\n",
      "  2.1238    -0.3645935 -0.566265  -0.021425  -0.695707   0.02204\n",
      "  0.05728    0.4932     0.199505   0.049545   0.5472715  0.075176\n",
      " -0.539305   0.467965   0.079155  -0.357905  -0.10787   -0.36209\n",
      "  0.44183   -0.081715 ]\n"
     ]
    }
   ],
   "source": [
    "# checking the above function\n",
    "avg = avg_fun(\"Machine Leaning\")\n",
    "print(\"avg = \\n\", avg)"
   ]
  },
  {
   "cell_type": "code",
   "execution_count": 12,
   "id": "f2c97093",
   "metadata": {},
   "outputs": [],
   "source": [
    "#Our usual softmax\n",
    "def softmax(x):\n",
    "    temp=np.exp(x)\n",
    "    return temp/np.sum(temp, axis=0, keepdims=True)\n"
   ]
  },
  {
   "cell_type": "code",
   "execution_count": 13,
   "id": "432153a8",
   "metadata": {},
   "outputs": [],
   "source": [
    "#Now comes the first real game\n",
    "\n",
    "def model(x_train, y_train, learning_rate=0.01, num_of_iters=80000):\n",
    "    \"\"\"\n",
    "    This function trains our model for sentiment-classification using avg_fun function and neural-network\n",
    "    Arguments:\n",
    "        x_train: X-training-set , having shape (m,) .Here ,m=132\n",
    "        y_train: y-training-set , having shape (m,)\n",
    "    \n",
    "    Returns:\n",
    "        W: Parameter of the model, having shape (5,50)\n",
    "        b: Parameter of the model, having shape (5,1)\n",
    "        loss_list: List containing the loss over consecutive epochs, useful for finding num_of_iters\n",
    "    \"\"\"\n",
    "    \n",
    "    y_train_final=labels_to_oh(y_train) # y_train_final : shape=(5,132)\n",
    "   \n",
    "    \n",
    "    x_train_final=np.array( [avg_fun(i) for i in x_train] ).T  # x_train_final:shape(50,132)\n",
    "    m=x_train_final.shape[1] # no. of training examples\n",
    "    \n",
    "    n_0=x_train_final.shape[0]\n",
    "    n_1=y_train_final.shape[0]\n",
    "    \n",
    "    #Initializing my parameters\n",
    "    W=np.random.randn(n_1,n_0) / np.sqrt(n_0)\n",
    "    b=np.zeros( (n_1,1) )\n",
    "    \n",
    "    loss_list=[]\n",
    "    for epoch in range( num_of_iters):\n",
    "        \n",
    "        #forward Pass\n",
    "        A=softmax(np.dot(W, x_train_final)+b)\n",
    "        \n",
    "        loss=-np.sum( ( y_train_final*np.log(A) ))\n",
    "        loss_list.append(loss)\n",
    "        \n",
    "        #Backward Pass\n",
    "        dZ=A-y_train_final\n",
    "        dW=( np.dot(dZ, x_train_final.T) ) /m\n",
    "        db=( np.sum( dZ, axis=1, keepdims=True ) ) /m\n",
    "        \n",
    "        #updating the parameters\n",
    "        W=W-learning_rate*dW        \n",
    "        b=b-learning_rate*db\n",
    "        \n",
    "    return W,b, loss_list\n",
    "        \n",
    "    "
   ]
  },
  {
   "cell_type": "code",
   "execution_count": 14,
   "id": "740b2419",
   "metadata": {},
   "outputs": [],
   "source": [
    "W,b, loss_list =model(x_train, y_train)"
   ]
  },
  {
   "cell_type": "code",
   "execution_count": 15,
   "id": "0f45aea5",
   "metadata": {},
   "outputs": [
    {
     "data": {
      "image/png": "[encoded data removed]",
      "text/plain": [
       "<Figure size 432x288 with 1 Axes>"
      ]
     },
     "metadata": {
      "needs_background": "light"
     },
     "output_type": "display_data"
    }
   ],
   "source": [
    "plt.plot(loss_list)\n",
    "plt.xlabel(\"Epoch\")\n",
    "plt.ylabel(\"Loss\")\n",
    "plt.title(\"Loss vs Epoch\")\n",
    "plt.show()"
   ]
  },
  {
   "cell_type": "code",
   "execution_count": 16,
   "id": "96112f9b",
   "metadata": {},
   "outputs": [],
   "source": [
    "def emojifier_model1(sentence, W,b):\n",
    "    \"\"\"\n",
    "    This function returns the appropriate emoji to the given sentence.\n",
    "    Arguments:\n",
    "        sentence: A string\n",
    "        W: Trained parameter of the above model\n",
    "        b: Trained parameter of the above model\n",
    "    \n",
    "    Returns:\n",
    "        emo : A emoji\n",
    "    \"\"\"\n",
    "    avg_vec=avg_fun(sentence)\n",
    "    avg_vec=avg_vec.reshape(50,1)\n",
    "    A = softmax(np.dot(W, avg_vec)+b)\n",
    "    \n",
    "    label=np.argmax(A)\n",
    "    \n",
    "    emo=label_to_emoji(label)\n",
    "    print(sentence, \"--->\", emo)\n",
    "    "
   ]
  },
  {
   "cell_type": "code",
   "execution_count": 17,
   "id": "4b582b6e",
   "metadata": {},
   "outputs": [
    {
     "name": "stdout",
     "output_type": "stream",
     "text": [
      "i am in love ---> 😄\n",
      "i love you ---> ❤️\n",
      "I play ---> ⚾\n",
      "i am in good mood ---> 😄\n",
      "i am not in good mood ---> 😄\n"
     ]
    }
   ],
   "source": [
    "emojifier_model1(\"i am in love\", W, b) \n",
    "emojifier_model1(\"i love you\", W, b) \n",
    "emojifier_model1(\"I play\", W, b) \n",
    "emojifier_model1(\"i am in good mood\", W, b) \n",
    "emojifier_model1(\"i am not in good mood\", W, b) "
   ]
  },
  {
   "cell_type": "code",
   "execution_count": 18,
   "id": "a94dcaf0",
   "metadata": {},
   "outputs": [],
   "source": [
    "def prediction_analysis( X, Y, W, b, word_to_vec_map ):\n",
    "    \"\"\"\n",
    "    Given the X set(Arr of sentences) and Y set(Arr of Labels) , this computes the prediction over \n",
    "    all the set and calculates the accuracy.\n",
    "    \"\"\"\n",
    "    \n",
    "    X_final=np.array( [avg_fun(i) for i in X] ).T #shape(50,m)\n",
    "    m=X.shape[0]\n",
    "    \n",
    "    A=softmax(np.dot(W, X_final)+b)\n",
    "    pred=np.argmax(A, axis=0)\n",
    "    \n",
    "    print(\"Accuracy: \"  + str(np.mean( (pred[:] == Y[:]) )))\n",
    "    return pred\n",
    "    "
   ]
  },
  {
   "cell_type": "code",
   "execution_count": 19,
   "id": "8f92f846",
   "metadata": {},
   "outputs": [
    {
     "name": "stdout",
     "output_type": "stream",
     "text": [
      "Training set:\n",
      "Accuracy: 0.9848484848484849\n",
      "----------------\n",
      "Test set:\n",
      "Accuracy: 0.8928571428571429\n"
     ]
    }
   ],
   "source": [
    "print(\"Training set:\")\n",
    "pred_train = prediction_analysis(x_train, y_train, W, b, word_to_vec_map)\n",
    "print(\"----------------\")\n",
    "print('Test set:')\n",
    "pred_test = prediction_analysis(x_test, y_test, W, b, word_to_vec_map)"
   ]
  },
  {
   "cell_type": "markdown",
   "id": "444da098",
   "metadata": {},
   "source": [
    "Model2"
   ]
  },
  {
   "cell_type": "code",
   "execution_count": 20,
   "id": "7564d1a0",
   "metadata": {},
   "outputs": [],
   "source": [
    "import tensorflow as tf"
   ]
  },
  {
   "cell_type": "code",
   "execution_count": 21,
   "id": "1a02d2cc",
   "metadata": {},
   "outputs": [],
   "source": [
    "#Finding the maximum length for setting T_x in the model.\n",
    "max_len= len( max(x_train, key=len).split() )"
   ]
  },
  {
   "cell_type": "code",
   "execution_count": 22,
   "id": "a13af754",
   "metadata": {},
   "outputs": [],
   "source": [
    "def sentences_to_indicies(X, word_to_index, max_len):\n",
    "    \"\"\"\n",
    "    This function takes the sentences and converts them into array of indices.\n",
    "    Arguments:\n",
    "        X: Dataset, of size(m,)\n",
    "        word_to_index: Dictionary of word ---> index\n",
    "        max_len: Int, having value equal to max. length of sentence out of sentences. \n",
    "        \n",
    "    Returns:\n",
    "        mat: Array of indices, shape:(m,max_len)\n",
    "1    \"\"\" \n",
    "    \n",
    "    m=X.shape[0]\n",
    "    \n",
    "    mat=np.zeros((m, max_len))\n",
    "    for i in range(m):\n",
    "        \n",
    "        sentence_list= X[i].lower().split()\n",
    "        for j in range( len(sentence_list) ):\n",
    "            mat[i,j]=word_to_index[sentence_list[j]]\n",
    "    return mat"
   ]
  },
  {
   "cell_type": "code",
   "execution_count": 23,
   "id": "12f58636",
   "metadata": {},
   "outputs": [],
   "source": [
    "def pretrained_embedding_layer(word_to_vec_map, word_to_index):\n",
    "    \"\"\"\n",
    "    This function returns the embedding layer with our Glove embeddings set.\n",
    "    Arguments:\n",
    "        word_to_vec_map: Dictionary\n",
    "        word_to_index: Dictionary\n",
    "    \n",
    "    Returns:\n",
    "        embedding_layer\n",
    "    \"\"\"\n",
    "    vocab_size=len(word_to_index.keys())+1\n",
    "    emb_size=word_to_vec_map['mango'].shape[0]\n",
    "    \n",
    "    emb_matrix=np.zeros((vocab_size, emb_size))\n",
    "    \n",
    "    for word, idx in word_to_index.items() :\n",
    "        emb_matrix[idx,:]=word_to_vec_map[word]\n",
    "    \n",
    "    embedding_layer=tf.keras.layers.Embedding(\n",
    "                                        input_dim=vocab_size,\n",
    "                                        output_dim=emb_size,\n",
    "                                        trainable=False\n",
    "                                            )\n",
    "    embedding_layer.build((None,))\n",
    "    embedding_layer.set_weights([emb_matrix])\n",
    "    return embedding_layer"
   ]
  },
  {
   "cell_type": "code",
   "execution_count": 24,
   "id": "f7b0607c",
   "metadata": {},
   "outputs": [],
   "source": [
    "#now, let's start building the model\n",
    "def build_model(input_shape,word_to_vec_map, word_to_index ):\n",
    "    i=tf.keras.Input(\n",
    "        shape=input_shape\n",
    "        )\n",
    "    x=pretrained_embedding_layer(word_to_vec_map, word_to_index)(i)\n",
    "    x=tf.keras.layers.LSTM(\n",
    "        units=128,\n",
    "        return_sequences=True,\n",
    "        )(x)\n",
    "    x=tf.keras.layers.Dropout(rate=0.5)(x)\n",
    "    x=tf.keras.layers.LSTM(\n",
    "        units=128,\n",
    "        return_sequences=False,\n",
    "        )(x)\n",
    "    x=tf.keras.layers.Dropout(rate=0.5)(x)\n",
    "    o=tf.keras.layers.Dense(\n",
    "        units=5,\n",
    "        activation='softmax',\n",
    "        use_bias=False,\n",
    "        )(x)\n",
    "    \n",
    "    model=tf.keras.Model(inputs=i, outputs=o)\n",
    "    return model"
   ]
  },
  {
   "cell_type": "code",
   "execution_count": 25,
   "id": "5a20cf81",
   "metadata": {},
   "outputs": [
    {
     "name": "stdout",
     "output_type": "stream",
     "text": [
      "Model: \"model\"\n",
      "_________________________________________________________________\n",
      "Layer (type)                 Output Shape              Param #   \n",
      "=================================================================\n",
      "input_1 (InputLayer)         [(None, 10)]              0         \n",
      "_________________________________________________________________\n",
      "embedding (Embedding)        (None, 10, 50)            20000050  \n",
      "_________________________________________________________________\n",
      "lstm (LSTM)                  (None, 10, 128)           91648     \n",
      "_________________________________________________________________\n",
      "dropout (Dropout)            (None, 10, 128)           0         \n",
      "_________________________________________________________________\n",
      "lstm_1 (LSTM)                (None, 128)               131584    \n",
      "_________________________________________________________________\n",
      "dropout_1 (Dropout)          (None, 128)               0         \n",
      "_________________________________________________________________\n",
      "dense (Dense)                (None, 5)                 640       \n",
      "=================================================================\n",
      "Total params: 20,223,922\n",
      "Trainable params: 223,872\n",
      "Non-trainable params: 20,000,050\n",
      "_________________________________________________________________\n"
     ]
    }
   ],
   "source": [
    "input_shape =(max_len) \n",
    "model=build_model(input_shape,word_to_vec_map, word_to_index)\n",
    "model.summary()"
   ]
  },
  {
   "cell_type": "code",
   "execution_count": 26,
   "id": "a92ebcd0",
   "metadata": {},
   "outputs": [],
   "source": [
    "los=tf.keras.losses.CategoricalCrossentropy(\n",
    "    from_logits=False,\n",
    "    #label_smoothing=0.0,\n",
    "    #axis=-1,\n",
    "    #reduction=\"auto\",\n",
    "    #name=\"categorical_crossentropy\"\n",
    "    )\n",
    "met=['accuracy']    \n",
    "model.compile(\n",
    "    optimizer='adam', loss=los, metrics=met\n",
    ")"
   ]
  },
  {
   "cell_type": "code",
   "execution_count": 27,
   "id": "a30284f0",
   "metadata": {},
   "outputs": [],
   "source": [
    "#preparation of data\n",
    "x_final=sentences_to_indicies(x_train, word_to_index, max_len) #shape=(m,max_len=10)\n",
    "y_final=labels_to_oh(y_train) # here, shape=(5,m)"
   ]
  },
  {
   "cell_type": "code",
   "execution_count": 28,
   "id": "1ac43929",
   "metadata": {},
   "outputs": [
    {
     "name": "stdout",
     "output_type": "stream",
     "text": [
      "Train on 132 samples\n",
      "Epoch 1/50\n",
      "132/132 [==============================] - 7s 55ms/sample - loss: 1.5874 - accuracy: 0.2879\n",
      "Epoch 2/50\n",
      "132/132 [==============================] - 0s 400us/sample - loss: 1.4870 - accuracy: 0.3333\n",
      "Epoch 3/50\n",
      "132/132 [==============================] - 0s 408us/sample - loss: 1.4251 - accuracy: 0.3939\n",
      "Epoch 4/50\n",
      "132/132 [==============================] - 0s 453us/sample - loss: 1.3445 - accuracy: 0.4621\n",
      "Epoch 5/50\n",
      "132/132 [==============================] - 0s 665us/sample - loss: 1.2353 - accuracy: 0.5227\n",
      "Epoch 6/50\n",
      "132/132 [==============================] - 0s 680us/sample - loss: 1.0528 - accuracy: 0.6894\n",
      "Epoch 7/50\n",
      "132/132 [==============================] - 0s 650us/sample - loss: 0.9427 - accuracy: 0.6515\n",
      "Epoch 8/50\n",
      "132/132 [==============================] - 0s 786us/sample - loss: 0.8463 - accuracy: 0.6894\n",
      "Epoch 9/50\n",
      "132/132 [==============================] - 0s 597us/sample - loss: 0.8074 - accuracy: 0.6742\n",
      "Epoch 10/50\n",
      "132/132 [==============================] - 0s 461us/sample - loss: 0.6962 - accuracy: 0.7424\n",
      "Epoch 11/50\n",
      "132/132 [==============================] - 0s 378us/sample - loss: 0.5516 - accuracy: 0.7955\n",
      "Epoch 12/50\n",
      "132/132 [==============================] - 0s 363us/sample - loss: 0.5948 - accuracy: 0.8182\n",
      "Epoch 13/50\n",
      "132/132 [==============================] - 0s 302us/sample - loss: 0.4965 - accuracy: 0.7879\n",
      "Epoch 14/50\n",
      "132/132 [==============================] - 0s 431us/sample - loss: 0.3803 - accuracy: 0.8712\n",
      "Epoch 15/50\n",
      "132/132 [==============================] - 0s 453us/sample - loss: 0.3907 - accuracy: 0.8561\n",
      "Epoch 16/50\n",
      "132/132 [==============================] - 0s 710us/sample - loss: 0.3795 - accuracy: 0.8485\n",
      "Epoch 17/50\n",
      "132/132 [==============================] - 0s 839us/sample - loss: 0.3748 - accuracy: 0.8939\n",
      "Epoch 18/50\n",
      "132/132 [==============================] - 0s 657us/sample - loss: 0.4015 - accuracy: 0.8788\n",
      "Epoch 19/50\n",
      "132/132 [==============================] - 0s 665us/sample - loss: 0.3254 - accuracy: 0.8939\n",
      "Epoch 20/50\n",
      "132/132 [==============================] - 0s 589us/sample - loss: 0.3366 - accuracy: 0.9015\n",
      "Epoch 21/50\n",
      "132/132 [==============================] - 0s 416us/sample - loss: 0.3009 - accuracy: 0.8864\n",
      "Epoch 22/50\n",
      "132/132 [==============================] - 0s 453us/sample - loss: 0.2422 - accuracy: 0.9242\n",
      "Epoch 23/50\n",
      "132/132 [==============================] - 0s 438us/sample - loss: 0.2300 - accuracy: 0.9318\n",
      "Epoch 24/50\n",
      "132/132 [==============================] - 0s 348us/sample - loss: 0.1642 - accuracy: 0.9697\n",
      "Epoch 25/50\n",
      "132/132 [==============================] - 0s 438us/sample - loss: 0.1499 - accuracy: 0.9545\n",
      "Epoch 26/50\n",
      "132/132 [==============================] - 0s 468us/sample - loss: 0.2409 - accuracy: 0.9318\n",
      "Epoch 27/50\n",
      "132/132 [==============================] - 0s 650us/sample - loss: 0.2225 - accuracy: 0.9318\n",
      "Epoch 28/50\n",
      "132/132 [==============================] - 0s 892us/sample - loss: 0.2459 - accuracy: 0.9091\n",
      "Epoch 29/50\n",
      "132/132 [==============================] - 0s 854us/sample - loss: 0.3586 - accuracy: 0.8939\n",
      "Epoch 30/50\n",
      "132/132 [==============================] - 0s 718us/sample - loss: 0.2738 - accuracy: 0.9167\n",
      "Epoch 31/50\n",
      "132/132 [==============================] - 0s 499us/sample - loss: 0.2939 - accuracy: 0.8939\n",
      "Epoch 32/50\n",
      "132/132 [==============================] - 0s 400us/sample - loss: 0.2586 - accuracy: 0.9015\n",
      "Epoch 33/50\n",
      "132/132 [==============================] - 0s 370us/sample - loss: 0.2264 - accuracy: 0.9242\n",
      "Epoch 34/50\n",
      "132/132 [==============================] - 0s 385us/sample - loss: 0.1964 - accuracy: 0.9394\n",
      "Epoch 35/50\n",
      "132/132 [==============================] - 0s 400us/sample - loss: 0.1666 - accuracy: 0.9394\n",
      "Epoch 36/50\n",
      "132/132 [==============================] - 0s 514us/sample - loss: 0.1423 - accuracy: 0.9697\n",
      "Epoch 37/50\n",
      "132/132 [==============================] - 0s 695us/sample - loss: 0.1179 - accuracy: 0.9697\n",
      "Epoch 38/50\n",
      "132/132 [==============================] - 0s 952us/sample - loss: 0.1236 - accuracy: 0.9697\n",
      "Epoch 39/50\n",
      "132/132 [==============================] - 0s 778us/sample - loss: 0.0870 - accuracy: 0.9697\n",
      "Epoch 40/50\n",
      "132/132 [==============================] - 0s 982us/sample - loss: 0.0646 - accuracy: 0.9773\n",
      "Epoch 41/50\n",
      "132/132 [==============================] - 0s 688us/sample - loss: 0.0603 - accuracy: 0.9924\n",
      "Epoch 42/50\n",
      "132/132 [==============================] - 0s 446us/sample - loss: 0.0854 - accuracy: 0.9621\n",
      "Epoch 43/50\n",
      "132/132 [==============================] - 0s 343us/sample - loss: 0.0562 - accuracy: 0.9773\n",
      "Epoch 44/50\n",
      "132/132 [==============================] - 0s 380us/sample - loss: 0.0648 - accuracy: 0.9924\n",
      "Epoch 45/50\n",
      "132/132 [==============================] - 0s 453us/sample - loss: 0.0406 - accuracy: 0.9924\n",
      "Epoch 46/50\n",
      "132/132 [==============================] - 0s 536us/sample - loss: 0.0412 - accuracy: 0.9848\n",
      "Epoch 47/50\n",
      "132/132 [==============================] - 0s 491us/sample - loss: 0.0390 - accuracy: 0.9848\n",
      "Epoch 48/50\n",
      "132/132 [==============================] - 0s 876us/sample - loss: 0.0308 - accuracy: 0.9924\n",
      "Epoch 49/50\n",
      "132/132 [==============================] - 0s 861us/sample - loss: 0.0210 - accuracy: 1.0000\n",
      "Epoch 50/50\n",
      "132/132 [==============================] - 0s 997us/sample - loss: 0.0586 - accuracy: 0.9773\n"
     ]
    },
    {
     "data": {
      "text/plain": [
       "<tensorflow.python.keras.callbacks.History at 0x225c0150248>"
      ]
     },
     "execution_count": 28,
     "metadata": {},
     "output_type": "execute_result"
    }
   ],
   "source": [
    "##Now , the training finally begins.\n",
    "model.fit(\n",
    "    x=x_final, y=y_final.T, batch_size=32, epochs=50, verbose=1,\n",
    "    shuffle=True,\n",
    "    )"
   ]
  },
  {
   "cell_type": "code",
   "execution_count": 29,
   "id": "10752b1f",
   "metadata": {},
   "outputs": [
    {
     "name": "stdout",
     "output_type": "stream",
     "text": [
      "56/56 [==============================] - 1s 23ms/sample - loss: 0.3716 - accuracy: 0.8750\n",
      "\n",
      "Test accuracy =  0.875\n"
     ]
    }
   ],
   "source": [
    "x_test_final = sentences_to_indicies(x_test, word_to_index, max_len)\n",
    "y_test_final = labels_to_oh(y_test)\n",
    "loss, acc = model.evaluate(x_test_final, y_test_final.T)\n",
    "print()\n",
    "print(\"Test accuracy = \", acc)"
   ]
  },
  {
   "cell_type": "code",
   "execution_count": 30,
   "id": "b6c1ca93",
   "metadata": {},
   "outputs": [],
   "source": [
    "def emojifier_model2( sentence,mod=model):\n",
    "    test=sentences_to_indicies(sentence, word_to_index, max_len)\n",
    "    pred=np.argmax( mod.predict(test) )\n",
    "    #print(pred)\n",
    "    print(*sentence, \"--->\" , label_to_emoji(pred))"
   ]
  },
  {
   "cell_type": "code",
   "execution_count": 31,
   "id": "1c3428d5",
   "metadata": {},
   "outputs": [
    {
     "name": "stdout",
     "output_type": "stream",
     "text": [
      "i am in good mood ---> 😄\n"
     ]
    }
   ],
   "source": [
    "r=\"i am in good mood\"  #feel free to play with this.\n",
    "emojifier_model2(np.array([r]) )"
   ]
  },
  {
   "cell_type": "code",
   "execution_count": 32,
   "id": "822eaac1",
   "metadata": {},
   "outputs": [
    {
     "name": "stdout",
     "output_type": "stream",
     "text": [
      "i am not in good mood ---> 😞\n"
     ]
    }
   ],
   "source": [
    "r=\"i am not in good mood\"  \n",
    "emojifier_model2(np.array([r]) )"
   ]
  },
  {
   "cell_type": "markdown",
   "id": "2d3d3858",
   "metadata": {},
   "source": [
    "# Observations"
   ]
  },
  {
   "cell_type": "markdown",
   "id": "86f75a1a",
   "metadata": {},
   "source": [
    "### Model 1: \n",
    "------------\n",
    "Training set:\n",
    "Accuracy: 0.9848484848484849\n",
    "------------\n",
    "Test set:\n",
    "Accuracy: 0.8928571428571429\n",
    "------------"
   ]
  },
  {
   "cell_type": "markdown",
   "id": "4aaf3cb8",
   "metadata": {},
   "source": [
    "### Model 2: \n",
    "------------\n",
    "Training set:\n",
    "Accuracy: 0.9773\n",
    "------------\n",
    "Test set:\n",
    "Accuracy: 0.8750\n",
    "------------"
   ]
  },
  {
   "cell_type": "markdown",
   "id": "b536db12",
   "metadata": {},
   "source": [
    "Still, Model 2 is better than Model 1 because word ordering is taken in account in Model 2."
   ]
  },
  {
   "cell_type": "code",
   "execution_count": null,
   "id": "dc51e09b",
   "metadata": {},
   "outputs": [],
   "source": []
  }
 ],
 "metadata": {
  "kernelspec": {
   "display_name": "Python 3.7 (mission)",
   "language": "python",
   "name": "mission"
  },
  "language_info": {
   "codemirror_mode": {
    "name": "ipython",
    "version": 3
   },
   "file_extension": ".py",
   "mimetype": "text/x-python",
   "name": "python",
   "nbconvert_exporter": "python",
   "pygments_lexer": "ipython3",
   "version": "3.7.11"
  }
 },
 "nbformat": 4,
 "nbformat_minor": 5
}
